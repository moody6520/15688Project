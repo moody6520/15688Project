{
 "cells": [
  {
   "cell_type": "code",
   "execution_count": 1,
   "metadata": {},
   "outputs": [],
   "source": [
    "import pandas as pd\n",
    "import numpy as np\n",
    "import matplotlib.pyplot as plt\n",
    "import seaborn as sns\n",
    "from datetime import datetime"
   ]
  },
  {
   "cell_type": "code",
   "execution_count": 2,
   "metadata": {},
   "outputs": [
    {
     "name": "stdout",
     "output_type": "stream",
     "text": [
      "<class 'pandas.core.frame.DataFrame'>\n",
      "RangeIndex: 2087209 entries, 0 to 2087208\n",
      "Data columns (total 28 columns):\n",
      "DR_NO             int64\n",
      "Date Rptd         object\n",
      "DATE OCC          object\n",
      "TIME OCC          int64\n",
      "AREA              int64\n",
      "AREA NAME         object\n",
      "Rpt Dist No       int64\n",
      "Part 1-2          int64\n",
      "Crm Cd            int64\n",
      "Crm Cd Desc       object\n",
      "Mocodes           object\n",
      "Vict Age          int64\n",
      "Vict Sex          object\n",
      "Vict Descent      object\n",
      "Premis Cd         float64\n",
      "Premis Desc       object\n",
      "Weapon Used Cd    float64\n",
      "Weapon Desc       object\n",
      "Status            object\n",
      "Status Desc       object\n",
      "Crm Cd 1          float64\n",
      "Crm Cd 2          float64\n",
      "Crm Cd 3          float64\n",
      "Crm Cd 4          float64\n",
      "LOCATION          object\n",
      "Cross Street      object\n",
      "LAT               float64\n",
      "LON               float64\n",
      "dtypes: float64(8), int64(7), object(13)\n",
      "memory usage: 445.9+ MB\n"
     ]
    },
    {
     "data": {
      "text/html": [
       "<div>\n",
       "<style scoped>\n",
       "    .dataframe tbody tr th:only-of-type {\n",
       "        vertical-align: middle;\n",
       "    }\n",
       "\n",
       "    .dataframe tbody tr th {\n",
       "        vertical-align: top;\n",
       "    }\n",
       "\n",
       "    .dataframe thead th {\n",
       "        text-align: right;\n",
       "    }\n",
       "</style>\n",
       "<table border=\"1\" class=\"dataframe\">\n",
       "  <thead>\n",
       "    <tr style=\"text-align: right;\">\n",
       "      <th></th>\n",
       "      <th>DR_NO</th>\n",
       "      <th>Date Rptd</th>\n",
       "      <th>DATE OCC</th>\n",
       "      <th>TIME OCC</th>\n",
       "      <th>AREA</th>\n",
       "      <th>AREA NAME</th>\n",
       "      <th>Rpt Dist No</th>\n",
       "      <th>Part 1-2</th>\n",
       "      <th>Crm Cd</th>\n",
       "      <th>Crm Cd Desc</th>\n",
       "      <th>...</th>\n",
       "      <th>Status</th>\n",
       "      <th>Status Desc</th>\n",
       "      <th>Crm Cd 1</th>\n",
       "      <th>Crm Cd 2</th>\n",
       "      <th>Crm Cd 3</th>\n",
       "      <th>Crm Cd 4</th>\n",
       "      <th>LOCATION</th>\n",
       "      <th>Cross Street</th>\n",
       "      <th>LAT</th>\n",
       "      <th>LON</th>\n",
       "    </tr>\n",
       "  </thead>\n",
       "  <tbody>\n",
       "    <tr>\n",
       "      <th>0</th>\n",
       "      <td>1307355</td>\n",
       "      <td>02/20/2010 12:00:00 AM</td>\n",
       "      <td>02/20/2010 12:00:00 AM</td>\n",
       "      <td>1350</td>\n",
       "      <td>13</td>\n",
       "      <td>Newton</td>\n",
       "      <td>1385</td>\n",
       "      <td>2</td>\n",
       "      <td>900</td>\n",
       "      <td>VIOLATION OF COURT ORDER</td>\n",
       "      <td>...</td>\n",
       "      <td>AA</td>\n",
       "      <td>Adult Arrest</td>\n",
       "      <td>900.0</td>\n",
       "      <td>NaN</td>\n",
       "      <td>NaN</td>\n",
       "      <td>NaN</td>\n",
       "      <td>300 E  GAGE                         AV</td>\n",
       "      <td>NaN</td>\n",
       "      <td>33.9825</td>\n",
       "      <td>-118.2695</td>\n",
       "    </tr>\n",
       "    <tr>\n",
       "      <th>1</th>\n",
       "      <td>11401303</td>\n",
       "      <td>09/13/2010 12:00:00 AM</td>\n",
       "      <td>09/12/2010 12:00:00 AM</td>\n",
       "      <td>45</td>\n",
       "      <td>14</td>\n",
       "      <td>Pacific</td>\n",
       "      <td>1485</td>\n",
       "      <td>2</td>\n",
       "      <td>740</td>\n",
       "      <td>VANDALISM - FELONY ($400 &amp; OVER, ALL CHURCH VA...</td>\n",
       "      <td>...</td>\n",
       "      <td>IC</td>\n",
       "      <td>Invest Cont</td>\n",
       "      <td>740.0</td>\n",
       "      <td>NaN</td>\n",
       "      <td>NaN</td>\n",
       "      <td>NaN</td>\n",
       "      <td>SEPULVEDA                    BL</td>\n",
       "      <td>MANCHESTER                   AV</td>\n",
       "      <td>33.9599</td>\n",
       "      <td>-118.3962</td>\n",
       "    </tr>\n",
       "    <tr>\n",
       "      <th>2</th>\n",
       "      <td>70309629</td>\n",
       "      <td>08/09/2010 12:00:00 AM</td>\n",
       "      <td>08/09/2010 12:00:00 AM</td>\n",
       "      <td>1515</td>\n",
       "      <td>13</td>\n",
       "      <td>Newton</td>\n",
       "      <td>1324</td>\n",
       "      <td>2</td>\n",
       "      <td>946</td>\n",
       "      <td>OTHER MISCELLANEOUS CRIME</td>\n",
       "      <td>...</td>\n",
       "      <td>IC</td>\n",
       "      <td>Invest Cont</td>\n",
       "      <td>946.0</td>\n",
       "      <td>NaN</td>\n",
       "      <td>NaN</td>\n",
       "      <td>NaN</td>\n",
       "      <td>1300 E  21ST                         ST</td>\n",
       "      <td>NaN</td>\n",
       "      <td>34.0224</td>\n",
       "      <td>-118.2524</td>\n",
       "    </tr>\n",
       "    <tr>\n",
       "      <th>3</th>\n",
       "      <td>90631215</td>\n",
       "      <td>01/05/2010 12:00:00 AM</td>\n",
       "      <td>01/05/2010 12:00:00 AM</td>\n",
       "      <td>150</td>\n",
       "      <td>6</td>\n",
       "      <td>Hollywood</td>\n",
       "      <td>646</td>\n",
       "      <td>2</td>\n",
       "      <td>900</td>\n",
       "      <td>VIOLATION OF COURT ORDER</td>\n",
       "      <td>...</td>\n",
       "      <td>IC</td>\n",
       "      <td>Invest Cont</td>\n",
       "      <td>900.0</td>\n",
       "      <td>998.0</td>\n",
       "      <td>NaN</td>\n",
       "      <td>NaN</td>\n",
       "      <td>CAHUENGA                     BL</td>\n",
       "      <td>HOLLYWOOD                    BL</td>\n",
       "      <td>34.1016</td>\n",
       "      <td>-118.3295</td>\n",
       "    </tr>\n",
       "    <tr>\n",
       "      <th>4</th>\n",
       "      <td>100100501</td>\n",
       "      <td>01/03/2010 12:00:00 AM</td>\n",
       "      <td>01/02/2010 12:00:00 AM</td>\n",
       "      <td>2100</td>\n",
       "      <td>1</td>\n",
       "      <td>Central</td>\n",
       "      <td>176</td>\n",
       "      <td>1</td>\n",
       "      <td>122</td>\n",
       "      <td>RAPE, ATTEMPTED</td>\n",
       "      <td>...</td>\n",
       "      <td>IC</td>\n",
       "      <td>Invest Cont</td>\n",
       "      <td>122.0</td>\n",
       "      <td>NaN</td>\n",
       "      <td>NaN</td>\n",
       "      <td>NaN</td>\n",
       "      <td>8TH                          ST</td>\n",
       "      <td>SAN PEDRO                    ST</td>\n",
       "      <td>34.0387</td>\n",
       "      <td>-118.2488</td>\n",
       "    </tr>\n",
       "  </tbody>\n",
       "</table>\n",
       "<p>5 rows × 28 columns</p>\n",
       "</div>"
      ],
      "text/plain": [
       "       DR_NO               Date Rptd                DATE OCC  TIME OCC  AREA   \\\n",
       "0    1307355  02/20/2010 12:00:00 AM  02/20/2010 12:00:00 AM      1350     13   \n",
       "1   11401303  09/13/2010 12:00:00 AM  09/12/2010 12:00:00 AM        45     14   \n",
       "2   70309629  08/09/2010 12:00:00 AM  08/09/2010 12:00:00 AM      1515     13   \n",
       "3   90631215  01/05/2010 12:00:00 AM  01/05/2010 12:00:00 AM       150      6   \n",
       "4  100100501  01/03/2010 12:00:00 AM  01/02/2010 12:00:00 AM      2100      1   \n",
       "\n",
       "   AREA NAME  Rpt Dist No  Part 1-2  Crm Cd  \\\n",
       "0     Newton         1385         2     900   \n",
       "1    Pacific         1485         2     740   \n",
       "2     Newton         1324         2     946   \n",
       "3  Hollywood          646         2     900   \n",
       "4    Central          176         1     122   \n",
       "\n",
       "                                         Crm Cd Desc  ... Status  \\\n",
       "0                           VIOLATION OF COURT ORDER  ...     AA   \n",
       "1  VANDALISM - FELONY ($400 & OVER, ALL CHURCH VA...  ...     IC   \n",
       "2                          OTHER MISCELLANEOUS CRIME  ...     IC   \n",
       "3                           VIOLATION OF COURT ORDER  ...     IC   \n",
       "4                                    RAPE, ATTEMPTED  ...     IC   \n",
       "\n",
       "    Status Desc Crm Cd 1 Crm Cd 2  Crm Cd 3 Crm Cd 4  \\\n",
       "0  Adult Arrest    900.0      NaN       NaN      NaN   \n",
       "1   Invest Cont    740.0      NaN       NaN      NaN   \n",
       "2   Invest Cont    946.0      NaN       NaN      NaN   \n",
       "3   Invest Cont    900.0    998.0       NaN      NaN   \n",
       "4   Invest Cont    122.0      NaN       NaN      NaN   \n",
       "\n",
       "                                  LOCATION                     Cross Street  \\\n",
       "0   300 E  GAGE                         AV                              NaN   \n",
       "1          SEPULVEDA                    BL  MANCHESTER                   AV   \n",
       "2  1300 E  21ST                         ST                              NaN   \n",
       "3          CAHUENGA                     BL  HOLLYWOOD                    BL   \n",
       "4          8TH                          ST  SAN PEDRO                    ST   \n",
       "\n",
       "       LAT       LON  \n",
       "0  33.9825 -118.2695  \n",
       "1  33.9599 -118.3962  \n",
       "2  34.0224 -118.2524  \n",
       "3  34.1016 -118.3295  \n",
       "4  34.0387 -118.2488  \n",
       "\n",
       "[5 rows x 28 columns]"
      ]
     },
     "execution_count": 2,
     "metadata": {},
     "output_type": "execute_result"
    }
   ],
   "source": [
    "df = pd.read_csv('Crime_Data_from_2010_to_Present.csv')"
   ]
  },
  {
   "cell_type": "code",
   "execution_count": 3,
   "metadata": {},
   "outputs": [],
   "source": [
    "#histogram: number of crime\n",
    "#heat map: busy hour 2014\n",
    "\n",
    "df[\"DATE OCC\"] = pd.to_datetime(df['DATE OCC'])\n",
    "df['YEAR']=df[\"DATE OCC\"].dt.year\n",
    "df['MONTH']=df['DATE OCC'].dt.month\n",
    "df['Day_of_Week']=df['DATE OCC'].apply(lambda x:x.weekday())\n",
    "df['HOUR']=df['TIME OCC']//100"
   ]
  },
  {
   "cell_type": "code",
   "execution_count": 5,
   "metadata": {},
   "outputs": [
    {
     "data": {
      "text/plain": [
       "Text(0.5, 1.0, 'Number of crimes')"
      ]
     },
     "execution_count": 5,
     "metadata": {},
     "output_type": "execute_result"
    },
    {
     "data": {
      "image/png": "[encoded data removed]",
      "text/plain": [
       "<Figure size 1296x720 with 4 Axes>"
      ]
     },
     "metadata": {
      "needs_background": "light"
     },
     "output_type": "display_data"
    }
   ],
   "source": [
    "fig, axes = plt.subplots(nrows = 2, ncols = 2, figsize = (18, 10))\n",
    "\n",
    "\n",
    "sns.countplot(df[\"YEAR\"], color='lightblue', ax = axes[0,0] )\n",
    "axes[0,0].set_title(\"Number of crimes\")\n",
    "sns.countplot(df[\"Day_of_Week\"], color='lightgreen', ax = axes[1,0])\n",
    "axes[1,0].set_title(\"Number of crimes\")\n",
    "sns.countplot(df[\"MONTH\"], color = 'orange', ax = axes[0,1])\n",
    "axes[0,1].set_title(\"Number of crimes\")\n",
    "sns.countplot(df[\"HOUR\"], color = 'orange', ax = axes[1,1])\n",
    "axes[1,1].set_title(\"Number of crimes\")"
   ]
  },
  {
   "cell_type": "code",
   "execution_count": 6,
   "metadata": {},
   "outputs": [
    {
     "data": {
      "text/plain": [
       "<matplotlib.axes._subplots.AxesSubplot at 0x117b1a750>"
      ]
     },
     "execution_count": 6,
     "metadata": {},
     "output_type": "execute_result"
    },
    {
     "data": {
      "image/png": "[encoded data removed]",
      "text/plain": [
       "<Figure size 432x288 with 2 Axes>"
      ]
     },
     "metadata": {
      "needs_background": "light"
     },
     "output_type": "display_data"
    }
   ],
   "source": [
    "sns.heatmap(pd.pivot_table(data = df, index = \"Day_of_Week\", \n",
    "                              columns = \"HOUR\", values = \"DR_NO\", aggfunc = 'count'), \n",
    "               cmap = 'Oranges')"
   ]
  },
  {
   "cell_type": "code",
   "execution_count": 7,
   "metadata": {},
   "outputs": [
    {
     "data": {
      "text/plain": [
       "<matplotlib.axes._subplots.AxesSubplot at 0x117023910>"
      ]
     },
     "execution_count": 7,
     "metadata": {},
     "output_type": "execute_result"
    },
    {
     "data": {
      "image/png": "[encoded data removed]",
      "text/plain": [
       "<Figure size 1296x504 with 4 Axes>"
      ]
     },
     "metadata": {
      "needs_background": "light"
     },
     "output_type": "display_data"
    }
   ],
   "source": [
    "fig, axes = plt.subplots(nrows = 1, ncols = 2, figsize = (18, 7))\n",
    "sns.heatmap(pd.pivot_table(data = df[df[\"Crm Cd\"] ==(110 or 130)], index = \"Day_of_Week\", \n",
    "                              columns = \"HOUR\", values = \"Crm Cd\", aggfunc = 'count'), cmap = 'Reds', ax = axes[0])\n",
    "sns.heatmap(pd.pivot_table(data = df[df[\"Weapon Used Cd\"] == 102], index = \"Day_of_Week\", \n",
    "                              columns = \"HOUR\", values = \"Weapon Used Cd\", aggfunc = 'count'), cmap = 'Reds', ax = axes[1])"
   ]
  },
  {
   "cell_type": "code",
   "execution_count": 8,
   "metadata": {},
   "outputs": [
    {
     "data": {
      "text/html": [
       "<div>\n",
       "<style scoped>\n",
       "    .dataframe tbody tr th:only-of-type {\n",
       "        vertical-align: middle;\n",
       "    }\n",
       "\n",
       "    .dataframe tbody tr th {\n",
       "        vertical-align: top;\n",
       "    }\n",
       "\n",
       "    .dataframe thead th {\n",
       "        text-align: right;\n",
       "    }\n",
       "</style>\n",
       "<table border=\"1\" class=\"dataframe\">\n",
       "  <thead>\n",
       "    <tr style=\"text-align: right;\">\n",
       "      <th></th>\n",
       "      <th>Taxable Year</th>\n",
       "      <th>Zip Code</th>\n",
       "      <th>State</th>\n",
       "      <th>City</th>\n",
       "      <th>County</th>\n",
       "      <th>Returns</th>\n",
       "      <th>CA AGI</th>\n",
       "      <th>Total Tax Liability</th>\n",
       "      <th>CountyLatitude</th>\n",
       "      <th>CountyLongitude</th>\n",
       "      <th>Geo County</th>\n",
       "      <th>Geo City</th>\n",
       "      <th>Geo ZipCode</th>\n",
       "    </tr>\n",
       "  </thead>\n",
       "  <tbody>\n",
       "    <tr>\n",
       "      <th>0</th>\n",
       "      <td>2017</td>\n",
       "      <td>91775</td>\n",
       "      <td>CA</td>\n",
       "      <td>San Gabriel</td>\n",
       "      <td>Los Angeles</td>\n",
       "      <td>11301</td>\n",
       "      <td>896920720</td>\n",
       "      <td>39885616</td>\n",
       "      <td>34.059483</td>\n",
       "      <td>-118.242048</td>\n",
       "      <td>POINT (-118.24204800000001 34.0594833)</td>\n",
       "      <td>POINT (-118.10722900000002 34.099203)</td>\n",
       "      <td>NaN</td>\n",
       "    </tr>\n",
       "    <tr>\n",
       "      <th>1</th>\n",
       "      <td>2017</td>\n",
       "      <td>90001</td>\n",
       "      <td>CA</td>\n",
       "      <td>Los Angeles</td>\n",
       "      <td>Los Angeles</td>\n",
       "      <td>21596</td>\n",
       "      <td>633896704</td>\n",
       "      <td>5884996</td>\n",
       "      <td>34.059483</td>\n",
       "      <td>-118.242048</td>\n",
       "      <td>POINT (-118.24204800000001 34.0594833)</td>\n",
       "      <td>POINT (-118.243344 34.052238)</td>\n",
       "      <td>POINT (-118.24915400000002 33.973252)</td>\n",
       "    </tr>\n",
       "    <tr>\n",
       "      <th>2</th>\n",
       "      <td>2017</td>\n",
       "      <td>90002</td>\n",
       "      <td>CA</td>\n",
       "      <td>Los Angeles</td>\n",
       "      <td>Los Angeles</td>\n",
       "      <td>19915</td>\n",
       "      <td>576005270</td>\n",
       "      <td>5042436</td>\n",
       "      <td>34.059483</td>\n",
       "      <td>-118.242048</td>\n",
       "      <td>POINT (-118.24204800000001 34.0594833)</td>\n",
       "      <td>POINT (-118.243344 34.052238)</td>\n",
       "      <td>POINT (-118.247877 33.949079)</td>\n",
       "    </tr>\n",
       "    <tr>\n",
       "      <th>3</th>\n",
       "      <td>2017</td>\n",
       "      <td>91755</td>\n",
       "      <td>CA</td>\n",
       "      <td>Monterey Park</td>\n",
       "      <td>Los Angeles</td>\n",
       "      <td>15063</td>\n",
       "      <td>636889907</td>\n",
       "      <td>19992841</td>\n",
       "      <td>34.059483</td>\n",
       "      <td>-118.242048</td>\n",
       "      <td>POINT (-118.24204800000001 34.0594833)</td>\n",
       "      <td>POINT (-118.127542 34.062407)</td>\n",
       "      <td>POINT (-118.11527900000002 34.048584)</td>\n",
       "    </tr>\n",
       "    <tr>\n",
       "      <th>4</th>\n",
       "      <td>2017</td>\n",
       "      <td>90213</td>\n",
       "      <td>CA</td>\n",
       "      <td>Beverly Hills</td>\n",
       "      <td>Los Angeles</td>\n",
       "      <td>426</td>\n",
       "      <td>63811566</td>\n",
       "      <td>4916474</td>\n",
       "      <td>34.059483</td>\n",
       "      <td>-118.242048</td>\n",
       "      <td>POINT (-118.24204800000001 34.0594833)</td>\n",
       "      <td>POINT (-118.40467899999999 34.080294)</td>\n",
       "      <td>POINT (-118.40467899999999 34.080294)</td>\n",
       "    </tr>\n",
       "  </tbody>\n",
       "</table>\n",
       "</div>"
      ],
      "text/plain": [
       "   Taxable Year  Zip Code State           City       County  Returns  \\\n",
       "0          2017     91775    CA    San Gabriel  Los Angeles    11301   \n",
       "1          2017     90001    CA    Los Angeles  Los Angeles    21596   \n",
       "2          2017     90002    CA    Los Angeles  Los Angeles    19915   \n",
       "3          2017     91755    CA  Monterey Park  Los Angeles    15063   \n",
       "4          2017     90213    CA  Beverly Hills  Los Angeles      426   \n",
       "\n",
       "      CA AGI  Total Tax Liability  CountyLatitude  CountyLongitude  \\\n",
       "0  896920720             39885616       34.059483      -118.242048   \n",
       "1  633896704              5884996       34.059483      -118.242048   \n",
       "2  576005270              5042436       34.059483      -118.242048   \n",
       "3  636889907             19992841       34.059483      -118.242048   \n",
       "4   63811566              4916474       34.059483      -118.242048   \n",
       "\n",
       "                               Geo County  \\\n",
       "0  POINT (-118.24204800000001 34.0594833)   \n",
       "1  POINT (-118.24204800000001 34.0594833)   \n",
       "2  POINT (-118.24204800000001 34.0594833)   \n",
       "3  POINT (-118.24204800000001 34.0594833)   \n",
       "4  POINT (-118.24204800000001 34.0594833)   \n",
       "\n",
       "                                Geo City  \\\n",
       "0  POINT (-118.10722900000002 34.099203)   \n",
       "1          POINT (-118.243344 34.052238)   \n",
       "2          POINT (-118.243344 34.052238)   \n",
       "3          POINT (-118.127542 34.062407)   \n",
       "4  POINT (-118.40467899999999 34.080294)   \n",
       "\n",
       "                             Geo ZipCode  \n",
       "0                                    NaN  \n",
       "1  POINT (-118.24915400000002 33.973252)  \n",
       "2          POINT (-118.247877 33.949079)  \n",
       "3  POINT (-118.11527900000002 34.048584)  \n",
       "4  POINT (-118.40467899999999 34.080294)  "
      ]
     },
     "execution_count": 8,
     "metadata": {},
     "output_type": "execute_result"
    }
   ],
   "source": [
    "tx = pd.read_csv('tax_income.csv')"
   ]
  },
  {
   "cell_type": "code",
   "execution_count": 4,
   "metadata": {},
   "outputs": [],
   "source": [
    "theaf=set([442,331,420,440])\n",
    "rob=210\n",
    "rape=121\n",
    "murder=110\n",
    "ch_abuse=set([627,235])\n",
    "an_abuse=943\n",
    "filt=set([442,331,420,440,210,121,110,627,235,943])\n",
    "dff=df[df['Crm Cd'].isin(filt)]\n",
    "dff=dff[dff['YEAR']==2014]\n",
    "dff.to_csv('crop_crime_data_2014.csv')"
   ]
  },
  {
   "cell_type": "code",
   "execution_count": 20,
   "metadata": {},
   "outputs": [
    {
     "name": "stdout",
     "output_type": "stream",
     "text": [
      "<class 'pandas.core.frame.DataFrame'>\n",
      "RangeIndex: 40534 entries, 0 to 40533\n",
      "Data columns (total 33 columns):\n",
      "DR_NO             40534 non-null int64\n",
      "Date Rptd         40534 non-null object\n",
      "DATE OCC          40534 non-null object\n",
      "TIME OCC          40534 non-null int64\n",
      "AREA              40534 non-null int64\n",
      "AREA NAME         40534 non-null object\n",
      "Rpt Dist No       40534 non-null int64\n",
      "Part 1-2          40534 non-null int64\n",
      "Crm Cd            40534 non-null int64\n",
      "Crm Cd Desc       40534 non-null object\n",
      "Mocodes           37630 non-null object\n",
      "Vict Age          40534 non-null int64\n",
      "Vict Sex          37962 non-null object\n",
      "Vict Descent      37962 non-null object\n",
      "Premis Cd         40529 non-null float64\n",
      "Premis Desc       40529 non-null object\n",
      "Weapon Used Cd    9725 non-null float64\n",
      "Weapon Desc       9725 non-null object\n",
      "Status            40534 non-null object\n",
      "Status Desc       40534 non-null object\n",
      "Crm Cd 1          40534 non-null float64\n",
      "Crm Cd 2          2573 non-null float64\n",
      "Crm Cd 3          56 non-null float64\n",
      "Crm Cd 4          2 non-null float64\n",
      "LOCATION          40534 non-null object\n",
      "Cross Street      7354 non-null object\n",
      "LAT               40534 non-null float64\n",
      "LON               40534 non-null float64\n",
      "YEAR              40534 non-null int64\n",
      "MONTH             40534 non-null int64\n",
      "Day_of_Week       40534 non-null int64\n",
      "HOUR              40534 non-null int64\n",
      "ZIP_CODE          40534 non-null int64\n",
      "dtypes: float64(8), int64(12), object(13)\n",
      "memory usage: 10.2+ MB\n"
     ]
    }
   ],
   "source": [
    "combine= pd.read_csv('combine.csv')\n",
    "combine=combine.drop(columns='Unnamed: 0')\n",
    "combine=combine.drop(columns='Unnamed: 0.1')\n",
    "combine.info()"
   ]
  },
  {
   "cell_type": "code",
   "execution_count": 34,
   "metadata": {},
   "outputs": [
    {
     "data": {
      "text/plain": [
       "Text(0.5, 1.0, 'Given children abuse')"
      ]
     },
     "execution_count": 34,
     "metadata": {},
     "output_type": "execute_result"
    },
    {
     "data": {
      "image/png": "[encoded data removed]",
      "text/plain": [
       "<Figure size 1296x720 with 4 Axes>"
      ]
     },
     "metadata": {
      "needs_background": "light"
     },
     "output_type": "display_data"
    }
   ],
   "source": [
    "murd=combine[combine['Crm Cd']==murder]\n",
    "thee=combine[combine['Crm Cd'].isin(theaf)]\n",
    "robery=combine[combine['Crm Cd']==rob]\n",
    "child=combine[combine['Crm Cd'].isin(ch_abuse)]\n",
    "\n",
    "fig, axes = plt.subplots(nrows = 2, ncols = 2, figsize = (18, 10))\n",
    "\n",
    "murd2=(murd['Crm Cd 2'].append(murd['Crm Cd 3'])).append(murd['Crm Cd 4'])\n",
    "thee2=(thee['Crm Cd 2'].append(thee['Crm Cd 3'])).append(thee['Crm Cd 4'])\n",
    "robery2=(robery['Crm Cd 2'].append(robery['Crm Cd 3'])).append(robery['Crm Cd 4'])\n",
    "child2=(child['Crm Cd 2'].append(child['Crm Cd 3'])).append(child['Crm Cd 4'])\n",
    "\n",
    "sns.countplot(murd2, color='lightblue', ax = axes[0,0] )\n",
    "axes[0,0].set_title(\"Given murder\")\n",
    "sns.countplot(thee2, color='lightgreen', ax = axes[1,0])\n",
    "axes[1,0].set_title(\"Given theaf\")\n",
    "sns.countplot(robery2, color = 'orange', ax = axes[0,1])\n",
    "axes[0,1].set_title(\"Given robery\")\n",
    "sns.countplot(child2, color = 'orange', ax = axes[1,1])\n",
    "axes[1,1].set_title(\"Given children abuse\")\n"
   ]
  },
  {
   "cell_type": "code",
   "execution_count": 38,
   "metadata": {},
   "outputs": [],
   "source": [
    "tax_income = pd.read_csv(\"tax_income.csv\")\n",
    "tax_income_2014 = tax_income[tax_income[\"Taxable Year\"] == 2014]\n",
    "merged = pd.merge(left=combine,right=tax_income_2014, left_on=\"ZIP_CODE\", right_on='Zip Code',how=\"inner\")\n",
    "merged.head()\n",
    "merged['Total Tax Liability']=merged['Total Tax Liability']//1000"
   ]
  },
  {
   "cell_type": "code",
   "execution_count": 40,
   "metadata": {},
   "outputs": [
    {
     "data": {
      "text/plain": [
       "<matplotlib.axes._subplots.AxesSubplot at 0x11ea07dd0>"
      ]
     },
     "execution_count": 40,
     "metadata": {},
     "output_type": "execute_result"
    },
    {
     "data": {
      "image/png": "[encoded data removed]",
      "text/plain": [
       "<Figure size 432x288 with 2 Axes>"
      ]
     },
     "metadata": {
      "needs_background": "light"
     },
     "output_type": "display_data"
    }
   ],
   "source": [
    "sns.heatmap(pd.pivot_table(data = merged, index = \"Total Tax Liability\", \n",
    "                              columns = \"Crm Cd\", values = \"DR_NO\", aggfunc = 'count'), \n",
    "               cmap = 'Oranges')"
   ]
  },
  {
   "cell_type": "code",
   "execution_count": null,
   "metadata": {},
   "outputs": [],
   "source": []
  }
 ],
 "metadata": {
  "kernelspec": {
   "display_name": "Python 3",
   "language": "python",
   "name": "python3"
  },
  "language_info": {
   "codemirror_mode": {
    "name": "ipython",
    "version": 3
   },
   "file_extension": ".py",
   "mimetype": "text/x-python",
   "name": "python",
   "nbconvert_exporter": "python",
   "pygments_lexer": "ipython3",
   "version": "3.7.4"
  }
 },
 "nbformat": 4,
 "nbformat_minor": 2
}
